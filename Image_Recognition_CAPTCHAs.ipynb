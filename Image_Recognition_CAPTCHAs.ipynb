{
  "cells": [
    {
      "cell_type": "code",
      "execution_count": 1,
      "metadata": {
        "id": "dMuOxgEKoJkv"
      },
      "outputs": [],
      "source": [
        "import pandas as pd\n",
        "import numpy as np\n",
        "import random\n",
        "import string \n",
        "import tensorflow as tf\n",
        "import cv2"
      ]
    },
    {
      "cell_type": "code",
      "execution_count": 2,
      "metadata": {
        "colab": {
          "base_uri": "https://localhost:8080/"
        },
        "id": "Sk11hR05u_h1",
        "outputId": "f34221f4-6472-4eb6-f673-9f023c3b3ff9"
      },
      "outputs": [
        {
          "name": "stdout",
          "output_type": "stream",
          "text": [
            "mkdir: cannot create directory ‘images’: File exists\n"
          ]
        }
      ],
      "source": [
        "!mkdir images"
      ]
    },
    {
      "cell_type": "markdown",
      "metadata": {
        "id": "Ly5CRMZgqSKu"
      },
      "source": [
        "# Generate CAPTCHA images"
      ]
    },
    {
      "cell_type": "markdown",
      "metadata": {
        "id": "hMXjgNyguRTN"
      },
      "source": [
        "### Install Python's captcha library"
      ]
    },
    {
      "cell_type": "code",
      "execution_count": 3,
      "metadata": {
        "colab": {
          "base_uri": "https://localhost:8080/"
        },
        "id": "JaEnkYMyuePK",
        "outputId": "5f6bc01f-0826-4a7c-bf9a-a2b1828830e5"
      },
      "outputs": [
        {
          "name": "stdout",
          "output_type": "stream",
          "text": [
            "Requirement already satisfied: captcha in /usr/local/lib/python3.7/dist-packages (0.4)\n",
            "Requirement already satisfied: Pillow in /usr/local/lib/python3.7/dist-packages (from captcha) (7.1.2)\n"
          ]
        }
      ],
      "source": [
        "!pip install captcha"
      ]
    },
    {
      "cell_type": "code",
      "execution_count": 4,
      "metadata": {
        "id": "yYvpR14Fuycn"
      },
      "outputs": [],
      "source": [
        "from captcha.image import ImageCaptcha"
      ]
    },
    {
      "cell_type": "markdown",
      "metadata": {
        "id": "P8Y5h8uCvA-z"
      },
      "source": [
        "### CAPTCHA images "
      ]
    },
    {
      "cell_type": "markdown",
      "metadata": {
        "id": "uX__lZFszhNv"
      },
      "source": [
        " the function generates images  include 5 characters :\n",
        " - letters and numbers\n",
        " -  symbols and punctuations (optional) \n",
        "\n",
        "input:\n",
        "- ratio  \n",
        "    - letters : numbers : symbols\n",
        "- split percentage \n",
        "\n",
        "output:\n",
        "- Dictionary { keys -> train + validate + test , values -> list [ image path' , tag ] }\n"
      ]
    },
    {
      "cell_type": "code",
      "execution_count": 5,
      "metadata": {
        "id": "2Ssns71Ku-X7"
      },
      "outputs": [],
      "source": [
        "def CAPTCHAsgenerating (datasize: int , imgsize : tuple , ratio :tuple ,tr_s :float ):\n",
        "  v_s = float((1-tr_s)/2)\n",
        "  data_dict = {'tr':[],'val':[],'ts':[]}\n",
        "  captcha =[]\n",
        "  image = ImageCaptcha(width = imgsize[0] , height = imgsize[1] )\n",
        "  punctuation =string.punctuation\n",
        "  list(punctuation).remove(\"/\")\n",
        "  for i in range(datasize):\n",
        "    letters = [random.choice(string.ascii_letters) for i in range(ratio[0]) ]\n",
        "    numbers = [random.choice(string.digits       ) for i in range(ratio[1]) ]\n",
        "    symbols = [random.choice(punctuation         ) for i in range(ratio[2]) if not '/']\n",
        "    captcha_text = [str(elem) for elem in letters+numbers+symbols ] \n",
        "    random.shuffle( captcha_text) \n",
        "    captcha_text = ''.join(captcha_text)\n",
        "    path = '/content/images/'+captcha_text+'.png'\n",
        "    captcha.append ([path,captcha_text])\n",
        "    data = image.generate(captcha_text) \n",
        "    image.write(captcha_text, path )\n",
        "    tr, val , ts = np.split(captcha, [int(len(captcha)*tr_s), int(len(captcha)*(1-v_s)) ])\n",
        "    data_dict['tr'].extend(tr)\n",
        "    data_dict['val'].extend(val)\n",
        "    data_dict['ts'].extend(ts)\n",
        "    \n",
        "  return data_dict"
      ]
    },
    {
      "cell_type": "code",
      "execution_count": 6,
      "metadata": {
        "id": "RnNm50OQiF5F"
      },
      "outputs": [],
      "source": [
        "data_dict= CAPTCHAsgenerating(datasize= 20  , imgsize =(280 , 90) , ratio = (2,2,1) ,tr_s =0.8 )"
      ]
    },
    {
      "cell_type": "code",
      "execution_count": null,
      "metadata": {},
      "outputs": [],
      "source": [
        "print (data_dict['val'])"
      ]
    }
  ],
  "metadata": {
    "colab": {
      "name": "Image Recognition CAPTCHAs.ipynb",
      "provenance": []
    },
    "kernelspec": {
      "display_name": "Python 3",
      "name": "python3"
    },
    "language_info": {
      "name": "python"
    }
  },
  "nbformat": 4,
  "nbformat_minor": 0
}
