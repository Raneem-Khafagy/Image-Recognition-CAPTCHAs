{
  "cells": [
    {
      "cell_type": "code",
      "execution_count": 1,
      "metadata": {
        "id": "dMuOxgEKoJkv"
      },
      "outputs": [],
      "source": [
        "import pandas as pd\n",
        "import numpy as np\n",
        "import random\n",
        "import string \n",
        "import tensorflow as tf\n",
        "import cv2"
      ]
    },
    {
      "cell_type": "code",
      "execution_count": 2,
      "metadata": {
        "colab": {
          "base_uri": "https://localhost:8080/"
        },
        "id": "Sk11hR05u_h1",
        "outputId": "f34221f4-6472-4eb6-f673-9f023c3b3ff9"
      },
      "outputs": [
        {
          "name": "stdout",
          "output_type": "stream",
          "text": [
            "mkdir: cannot create directory ‘images’: File exists\n"
          ]
        }
      ],
      "source": [
        "!mkdir images"
      ]
    },
    {
      "cell_type": "markdown",
      "metadata": {
        "id": "Ly5CRMZgqSKu"
      },
      "source": [
        "# Generate CAPTCHA images"
      ]
    },
    {
      "cell_type": "markdown",
      "metadata": {
        "id": "hMXjgNyguRTN"
      },
      "source": [
        "## Install Python's captcha library"
      ]
    },
    {
      "cell_type": "code",
      "execution_count": 3,
      "metadata": {
        "colab": {
          "base_uri": "https://localhost:8080/"
        },
        "id": "JaEnkYMyuePK",
        "outputId": "5f6bc01f-0826-4a7c-bf9a-a2b1828830e5"
      },
      "outputs": [
        {
          "name": "stdout",
          "output_type": "stream",
          "text": [
            "Requirement already satisfied: captcha in /usr/local/lib/python3.7/dist-packages (0.4)\n",
            "Requirement already satisfied: Pillow in /usr/local/lib/python3.7/dist-packages (from captcha) (7.1.2)\n"
          ]
        }
      ],
      "source": [
        "!pip install captcha"
      ]
    },
    {
      "cell_type": "code",
      "execution_count": 4,
      "metadata": {
        "id": "yYvpR14Fuycn"
      },
      "outputs": [],
      "source": [
        "from captcha.image import ImageCaptcha"
      ]
    },
    {
      "cell_type": "markdown",
      "metadata": {
        "id": "P8Y5h8uCvA-z"
      },
      "source": [
        "## CAPTCHA images "
      ]
    },
    {
      "cell_type": "markdown",
      "metadata": {
        "id": "uX__lZFszhNv"
      },
      "source": [
        " the function generates images  include 5 characters :\n",
        " - letters and numbers\n",
        " -  symbols and punctuations (optional) \n",
        "\n",
        "input:\n",
        "- ratio  \n",
        "    - letters : numbers : symbols\n",
        "- split percentage \n",
        "\n",
        "output:\n",
        "- Dictionary { keys -> train + validate + test , values -> list [ image path' , tag ] }\n"
      ]
    },
    {
      "cell_type": "code",
      "execution_count": 5,
      "metadata": {
        "id": "2Ssns71Ku-X7"
      },
      "outputs": [],
      "source": [
        "def CAPTCHAsgenerating (datasize: int , imgsize : tuple , ratio :tuple ,tr_s :float ):\n",
        "  v_s = float((1-tr_s)/2)\n",
        "  data_dict = {'tr':[],'val':[],'ts':[]}\n",
        "  captcha =[]\n",
        "  image = ImageCaptcha(width = imgsize[0] , height = imgsize[1] )\n",
        "  punctuation =string.punctuation\n",
        "  list(punctuation).remove(\"/\")\n",
        "  for i in range(datasize):\n",
        "    letters = [random.choice(string.ascii_letters) for i in range(ratio[0]) ]\n",
        "    numbers = [random.choice(string.digits       ) for i in range(ratio[1]) ]\n",
        "    symbols = [random.choice(punctuation         ) for i in range(ratio[2]) if not '/']\n",
        "    captcha_text = [str(elem) for elem in letters+numbers+symbols ] \n",
        "    random.shuffle( captcha_text) \n",
        "    captcha_text = ''.join(captcha_text)\n",
        "    path = '/content/images/'+captcha_text+'.png'\n",
        "    captcha.append ([path,captcha_text])\n",
        "    data = image.generate(captcha_text) \n",
        "    image.write(captcha_text, path )\n",
        "    tr, val , ts = np.split(captcha, [int(len(captcha)*tr_s), int(len(captcha)*(1-v_s)) ])\n",
        "    data_dict['tr'].extend(tr)\n",
        "    data_dict['val'].extend(val)\n",
        "    data_dict['ts'].extend(ts)\n",
        "    \n",
        "  return data_dict"
      ]
    },
    {
      "cell_type": "code",
      "execution_count": 6,
      "metadata": {
        "id": "RnNm50OQiF5F"
      },
      "outputs": [],
      "source": [
        "data_dict= CAPTCHAsgenerating(datasize= 20  , imgsize =(280 , 90) , ratio = (2,2,1) ,tr_s =0.8 )"
      ]
    },
    {
      "cell_type": "code",
      "execution_count": null,
      "metadata": {},
      "outputs": [],
      "source": [
        "print (data_dict['val'])"
      ]
    },
    {
      "cell_type": "markdown",
      "metadata": {},
      "source": [
        "## Data Pipeline"
      ]
    },
    {
      "cell_type": "code",
      "execution_count": null,
      "metadata": {},
      "outputs": [],
      "source": [
        "class pipeline(tf.keras.utils.Sequence):\n",
        "  def __init__(self,input_x,labels,resize_shape,batch_size,shuffle=True):\n",
        "    self.x = input_x  # pipeline input \n",
        "    self.y = labels   # pipeline output\n",
        "    self.resize_shape = resize_shape\n",
        "    # The pipeline needs to take ''' batch size ( 8 examples , 16 examples, 32 example, 48 example)\n",
        "    # and shuffle paremeter [ true - false ] to shuffle or not shuffle the data\n",
        "    self.batch_size = batch_size  \n",
        "    self.shuffle    = shuffle \n",
        "    self.on_epoch_end()\n",
        "\n",
        "  def __len__(self):\n",
        "    # This function determines the number of batches\n",
        "    return int(np.floor(len(self.y) / self.batch_size))\n",
        "\n",
        "  def __getitem__(self, index):\n",
        "    # Get the current batch \n",
        "    indexes = self.indexes[index*self.batch_size:(index+1)*self.batch_size]\n",
        "    X, y = self.__get_batch(indexes)\n",
        "    return X,y\n",
        "\n",
        "  def on_epoch_end(self):\n",
        "    self.indexes = np.arange(len(self.x))\n",
        "    if self.shuffle == True:\n",
        "      np.random.shuffle(self.indexes)\n",
        "\n",
        "  def __read_image(self,path):\n",
        "    ''' a function that reads the image and do resizing changes the color convention'''\n",
        "    img=cv2.imread(path)\n",
        "    dim = self.resize_shape[0:2]\n",
        "    #for interpolation in enlarging: cv2.INTER_LANCZOS4 : reducing: cv2.INTER_AREA  \n",
        "    interpolation = cv2.INTER_AREA if((self.resize_shape[0]*self.resize_shape[1])<=(img.shape[0]*img.shape[1])) else cv2.INTER_LANCZOS4\n",
        "    if (img.shape[2]!=3):\n",
        "      img = cv2.cvtColor(img,cv2.COLOR_GRAY2RGB)\n",
        "    return(cv2.resize(img,dim,interpolation =interpolation))/255.0\n",
        "    \n",
        "\n",
        "  def __get_label(self,label_string):\n",
        "    ''' a function that converts string to the class number '''\n",
        "    return label_string\n",
        "\n",
        "\n",
        "\n",
        "  def __get_batch(self, list_IDs_temp):\n",
        "    '''\n",
        "    Does the following three main things:\n",
        "    1- Create two arrays for input and output with correct shapes\n",
        "    '''\n",
        "    X = np.empty((self.batch_size, *self.resize_shape),dtype=np.float32)\n",
        "    y = np.empty((self.batch_size, 3))\n",
        "\n",
        "    # Generate data\n",
        "    for i, ID in enumerate(list_IDs_temp):\n",
        "      # Get expression\n",
        "      X[i,:,:] = self.__read_image(self.x[ID])\n",
        "\n",
        "      # store label\n",
        "      y[i,]    = self.__get_label(self.y[ID])\n",
        "\n",
        "    return X, y"
      ]
    },
    {
      "cell_type": "markdown",
      "metadata": {},
      "source": [
        "### Build pipeline"
      ]
    },
    {
      "cell_type": "code",
      "execution_count": null,
      "metadata": {},
      "outputs": [],
      "source": [
        "train_x= np.array( np.array( data_dict['tr' ] ) [:,0] )\n",
        "train_y= np.array( np.array( data_dict['tr' ] ) [:,1] )\n",
        "test_x = np.array( np.array( data_dict['ts' ] ) [:,0] )\n",
        "test_y = np.array( np.array( data_dict['ts' ] ) [:,1] )\n",
        "val_x  = np.array( np.array( data_dict['val'] ) [:,0] )\n",
        "val_y  = np.array( np.array( data_dict['val'] ) [:,1] )"
      ]
    },
    {
      "cell_type": "code",
      "execution_count": null,
      "metadata": {},
      "outputs": [],
      "source": [
        "resize_shape= (32,32,3)\n",
        "batch_size = 16\n",
        "epochs     = 40\n",
        "\n",
        "train_generator = pipeline(input_x=train_x,labels = train_y\n",
        "                           ,resize_shape = resize_shape ,batch_size=batch_size)\n",
        "\n",
        "validation_generator = pipeline(input_x = val_x , labels = val_y\n",
        "                           ,resize_shape = resize_shape ,batch_size=batch_size)\n",
        "\n",
        "test_generator = pipeline(input_x = test_x , labels = test_y\n",
        "                           ,resize_shape = resize_shape ,batch_size=batch_size)"
      ]
    }
  ],
  "metadata": {
    "colab": {
      "name": "Image Recognition CAPTCHAs.ipynb",
      "provenance": []
    },
    "kernelspec": {
      "display_name": "Python 3",
      "name": "python3"
    },
    "language_info": {
      "name": "python"
    }
  },
  "nbformat": 4,
  "nbformat_minor": 0
}
