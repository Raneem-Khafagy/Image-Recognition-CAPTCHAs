{
  "nbformat": 4,
  "nbformat_minor": 0,
  "metadata": {
    "colab": {
      "name": "Image Recognition CAPTCHAs.ipynb",
      "provenance": []
    },
    "kernelspec": {
      "name": "python3",
      "display_name": "Python 3"
    },
    "language_info": {
      "name": "python"
    }
  },
  "cells": [
    {
      "cell_type": "code",
      "execution_count": 1,
      "metadata": {
        "id": "dMuOxgEKoJkv"
      },
      "outputs": [],
      "source": [
        "import pandas as pd\n",
        "import numpy as np\n",
        "import random\n",
        "import string \n"
      ]
    },
    {
      "cell_type": "code",
      "source": [
        "!mkdir images"
      ],
      "metadata": {
        "colab": {
          "base_uri": "https://localhost:8080/"
        },
        "id": "Sk11hR05u_h1",
        "outputId": "f34221f4-6472-4eb6-f673-9f023c3b3ff9"
      },
      "execution_count": 2,
      "outputs": [
        {
          "output_type": "stream",
          "name": "stdout",
          "text": [
            "mkdir: cannot create directory ‘images’: File exists\n"
          ]
        }
      ]
    },
    {
      "cell_type": "markdown",
      "source": [
        "# Generate CAPTCHA images"
      ],
      "metadata": {
        "id": "Ly5CRMZgqSKu"
      }
    },
    {
      "cell_type": "markdown",
      "source": [
        "### Install Python's captcha library"
      ],
      "metadata": {
        "id": "hMXjgNyguRTN"
      }
    },
    {
      "cell_type": "code",
      "source": [
        "!pip install captcha"
      ],
      "metadata": {
        "colab": {
          "base_uri": "https://localhost:8080/"
        },
        "id": "JaEnkYMyuePK",
        "outputId": "5f6bc01f-0826-4a7c-bf9a-a2b1828830e5"
      },
      "execution_count": 3,
      "outputs": [
        {
          "output_type": "stream",
          "name": "stdout",
          "text": [
            "Requirement already satisfied: captcha in /usr/local/lib/python3.7/dist-packages (0.4)\n",
            "Requirement already satisfied: Pillow in /usr/local/lib/python3.7/dist-packages (from captcha) (7.1.2)\n"
          ]
        }
      ]
    },
    {
      "cell_type": "code",
      "source": [
        "from captcha.image import ImageCaptcha"
      ],
      "metadata": {
        "id": "yYvpR14Fuycn"
      },
      "execution_count": 4,
      "outputs": []
    },
    {
      "cell_type": "markdown",
      "source": [
        "### CAPTCHA images "
      ],
      "metadata": {
        "id": "P8Y5h8uCvA-z"
      }
    },
    {
      "cell_type": "markdown",
      "source": [
        " the function generates images  include 5 characters :\n",
        " - letters and numbers\n",
        " -  symbols and punctuations (optional) \n",
        "\n",
        "input ratio of \n",
        "\n",
        "letters : numbers : symbols\n"
      ],
      "metadata": {
        "id": "uX__lZFszhNv"
      }
    },
    {
      "cell_type": "code",
      "source": [
        "def CAPTCHAsgenerating (datasize: int , imgsize : tuple , ratio :tuple ):\n",
        "  image = ImageCaptcha(width = imgsize[0] , height = imgsize[1] )\n",
        "  for i in range(datasize):\n",
        "    letters = [random.choice(string.ascii_letters) for i in range(ratio[0]) ]\n",
        "    numbers = [random.choice(string.digits       ) for i in range(ratio[1]) ]\n",
        "    symbols = [random.choice(string.punctuation  ) for i in range(ratio[2]) ]\n",
        "    captcha_text = [str(elem) for elem in letters+numbers+symbols ] \n",
        "    random.shuffle( captcha_text) \n",
        "    captcha_text = ''.join(captcha_text)\n",
        "    data = image.generate(captcha_text) \n",
        "    image.write(captcha_text, '/content/images/'+captcha_text+'.png' )\n",
        "\n"
      ],
      "metadata": {
        "id": "2Ssns71Ku-X7"
      },
      "execution_count": 5,
      "outputs": []
    },
    {
      "cell_type": "code",
      "source": [
        "CAPTCHAsgenerating(datasize= 2  , imgsize =(280 , 90) , ratio = (2,2,1) )"
      ],
      "metadata": {
        "id": "RnNm50OQiF5F"
      },
      "execution_count": 6,
      "outputs": []
    }
  ]
}